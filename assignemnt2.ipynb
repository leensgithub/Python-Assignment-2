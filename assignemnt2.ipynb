{
 "cells": [
  {
   "cell_type": "code",
   "execution_count": 1,
   "id": "c593c345",
   "metadata": {},
   "outputs": [
    {
     "name": "stdout",
     "output_type": "stream",
     "text": [
      "Enter a number between 1 and 10: 5\n",
      "Too high! Try again.\n",
      "Enter a number between 1 and 10: 4\n",
      "Congratulations! You guessed the number correctly!\n"
     ]
    }
   ],
   "source": [
    "import random \n",
    "secretNumber = random. randint(1, 10) \n",
    "guess = None \n",
    "while guess != secretNumber: \n",
    "  guess = int(input(\"Enter a number between 1 and 10: \")) \n",
    "  if guess == secretNumber: \n",
    "    print(\"Congratulations! You guessed the number correctly!\")\n",
    "  elif guess> secretNumber:\n",
    "     print(\"Too high! Try again.\")\n",
    "  elif guess< secretNumber:\n",
    "     print(\"Too low! Try again.\")"
   ]
  },
  {
   "cell_type": "code",
   "execution_count": 12,
   "id": "d96349d1",
   "metadata": {},
   "outputs": [
    {
     "name": "stdout",
     "output_type": "stream",
     "text": [
      "Enter a number: 8\n",
      "The factorial of 8 is 40320\n"
     ]
    }
   ],
   "source": [
    "num = int(input(\"Enter a number: \"))\n",
    "factorial = 1\n",
    "if num < 0:\n",
    "    print(\"Sorry, factorial does not exist for negative numbers\")\n",
    "elif num == 0:\n",
    "    print(\"The factorial of 0 is 1\")\n",
    "else:\n",
    "    for i in range(1,num + 1):\n",
    "        factorial=factorial*i\n",
    "    print(\"The factorial of\",num,\"is\",factorial)"
   ]
  },
  {
   "cell_type": "code",
   "execution_count": null,
   "id": "ba3ea486",
   "metadata": {},
   "outputs": [
    {
     "name": "stdout",
     "output_type": "stream",
     "text": [
      "Enter length of photo : 7\n",
      "Enter the number of photos to upload: 8\n",
      "Enter the width of the photo :8\n",
      "Enter the Height of the photo :7\n",
      "CROP IT\n"
     ]
    }
   ],
   "source": [
    "photolength=int(input(\"Enter length of photo : \")) \n",
    "num_photo=int(input(\"Enter the number of photos to upload: \" ))\n",
    "while num_photo>0:\n",
    "  photo_width=int(input(\"Enter the width of the photo :\"))\n",
    "  photo_height=int(input(\"Enter the Height of the photo :\")) \n",
    "  if  photo_width<photolength or photo_height<photolength:\n",
    "    print(\"UPLOAD ANOTHER\")\n",
    "  elif photo_width>=photolength and  photo_height>=photolength and photo_width==photo_height:\n",
    "     print(\"ACCEPTED\")\n",
    "  elif photo_width>=photolength and  photo_height>=photolength and photo_width!=photo_height:\n",
    "    print(\"CROP IT\")\n",
    "  num_photo= num_photo-1"
   ]
  },
  {
   "cell_type": "code",
   "execution_count": 8,
   "id": "218ffd5b",
   "metadata": {},
   "outputs": [
    {
     "name": "stdout",
     "output_type": "stream",
     "text": [
      "Enter a number: 6\n",
      "The factorial of 6 is 720\n"
     ]
    }
   ],
   "source": [
    "num = int(input(\"Enter a number: \"))\n",
    "factorial = 1\n",
    "if num < 0:\n",
    "    print(\"Sorry, factorial does not exist for negative numbers\")\n",
    "elif num == 0:\n",
    "    print(\"The factorial of 0 is 1\")\n",
    "else:\n",
    "    for i in range(1,num + 1):\n",
    "        factorial=factorial*i\n",
    "    print(\"The factorial of\",num,\"is\",factorial)\n",
    "    "
   ]
  },
  {
   "cell_type": "code",
   "execution_count": 15,
   "id": "b38306fb",
   "metadata": {},
   "outputs": [
    {
     "name": "stdout",
     "output_type": "stream",
     "text": [
      "Enter a number between 1 and 10: 5\n",
      "Too high! Try again.\n",
      "Enter a number between 1 and 10: 3\n",
      "Too low! Try again.\n",
      "Enter a number between 1 and 10: 9\n",
      "Too high! Try again.\n",
      "Enter a number between 1 and 10: 7\n",
      "Too high! Try again.\n",
      "Enter a number between 1 and 10: 8\n",
      "Too high! Try again.\n",
      "Enter a number between 1 and 10: 4\n",
      "Congratulations! You guessed the number correctly!\n"
     ]
    }
   ],
   "source": [
    "import random \n",
    "secretNumber = random. randint(1, 10) \n",
    "guess = None \n",
    "while guess != secretNumber: \n",
    "  guess = int(input(\"Enter a number between 1 and 10: \")) \n",
    "  if guess == secretNumber: \n",
    "    print(\"Congratulations! You guessed the number correctly!\")\n",
    "  elif guess> secretNumber:\n",
    "     print(\"Too high! Try again.\")\n",
    "  elif guess< secretNumber:\n",
    "     print(\"Too low! Try again.\")"
   ]
  },
  {
   "cell_type": "markdown",
   "id": "acc2a11c",
   "metadata": {},
   "source": [
    "##### "
   ]
  },
  {
   "cell_type": "code",
   "execution_count": null,
   "id": "0e89bbf5",
   "metadata": {},
   "outputs": [],
   "source": []
  }
 ],
 "metadata": {
  "kernelspec": {
   "display_name": "Python 3 (ipykernel)",
   "language": "python",
   "name": "python3"
  },
  "language_info": {
   "codemirror_mode": {
    "name": "ipython",
    "version": 3
   },
   "file_extension": ".py",
   "mimetype": "text/x-python",
   "name": "python",
   "nbconvert_exporter": "python",
   "pygments_lexer": "ipython3",
   "version": "3.10.9"
  }
 },
 "nbformat": 4,
 "nbformat_minor": 5
}
